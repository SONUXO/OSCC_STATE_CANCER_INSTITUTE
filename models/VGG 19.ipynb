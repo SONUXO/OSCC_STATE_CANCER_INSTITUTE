{
 "cells": [
  {
   "cell_type": "code",
   "execution_count": 1,
   "id": "6beaa026",
   "metadata": {},
   "outputs": [],
   "source": [
    "import tensorflow as tf\n",
    "import numpy as np\n",
    "import matplotlib.pyplot as plt\n",
    "from tensorflow.keras.layers import *\n",
    "from tensorflow.keras.models import * \n",
    "from tensorflow.keras.preprocessing import image\n",
    "import scipy\n",
    "import os\n",
    "import random\n",
    "import shutil\n",
    "# import joblib"
   ]
  },
  {
   "cell_type": "code",
   "execution_count": 2,
   "id": "c68c0db4",
   "metadata": {},
   "outputs": [],
   "source": [
    "train_folder = \"E:/Mendeley Dataset/100x_datav2/train\"\n",
    "test_folder = \"E:/Mendeley Dataset/100x_datav2/test\"\n",
    "validation_folder = \"E:/Mendeley Dataset/100x_datav2/validate\""
   ]
  },
  {
   "cell_type": "code",
   "execution_count": 3,
   "id": "d7867bdb",
   "metadata": {},
   "outputs": [
    {
     "data": {
      "text/plain": [
       "'E:/Mendeley Dataset/100x_datav2/train'"
      ]
     },
     "execution_count": 3,
     "metadata": {},
     "output_type": "execute_result"
    }
   ],
   "source": [
    "train_folder"
   ]
  },
  {
   "cell_type": "code",
   "execution_count": 4,
   "id": "634424bd",
   "metadata": {},
   "outputs": [],
   "source": [
    "train_datagen = image.ImageDataGenerator(\n",
    "    rotation_range=15,\n",
    "    shear_range=0.2,\n",
    "    zoom_range=0.2,\n",
    "    horizontal_flip=True,\n",
    "    width_shift_range=0.1,\n",
    "    height_shift_range=0.1)\n",
    "validation_datagen= image.ImageDataGenerator(\n",
    "    rotation_range=15,\n",
    "    shear_range=0.2,\n",
    "    zoom_range=0.2,\n",
    "    horizontal_flip=True,\n",
    "    width_shift_range=0.1,\n",
    "    height_shift_range=0.1)\n",
    "test_datagen= image.ImageDataGenerator(\n",
    "    rotation_range=15,\n",
    "    shear_range=0.2,\n",
    "    zoom_range=0.2,\n",
    "    horizontal_flip=True,\n",
    "    width_shift_range=0.1,\n",
    "    height_shift_range=0.1)"
   ]
  },
  {
   "cell_type": "code",
   "execution_count": 5,
   "id": "9c9b6e50",
   "metadata": {},
   "outputs": [
    {
     "name": "stdout",
     "output_type": "stream",
     "text": [
      "Found 368 images belonging to 2 classes.\n",
      "Found 80 images belonging to 2 classes.\n",
      "Found 79 images belonging to 2 classes.\n"
     ]
    }
   ],
   "source": [
    "train_generator = train_datagen.flow_from_directory(\n",
    "    train_folder,\n",
    "    target_size = (224,224),\n",
    "    batch_size = 16,\n",
    "    class_mode = 'binary')\n",
    "validation_generator = validation_datagen.flow_from_directory(\n",
    "    validation_folder,\n",
    "    target_size = (224,224),\n",
    "    batch_size = 16,\n",
    "    shuffle=True,\n",
    "    class_mode = 'binary')\n",
    "test_generator = test_datagen.flow_from_directory(\n",
    "    test_folder,\n",
    "    target_size = (224,224),\n",
    "    batch_size = 16,\n",
    "    class_mode = 'binary')"
   ]
  },
  {
   "cell_type": "code",
   "execution_count": 6,
   "id": "34ad256d",
   "metadata": {},
   "outputs": [
    {
     "data": {
      "text/plain": [
       "{'Normal': 0, 'OSCC': 1}"
      ]
     },
     "execution_count": 6,
     "metadata": {},
     "output_type": "execute_result"
    }
   ],
   "source": [
    "train_generator.class_indices"
   ]
  },
  {
   "cell_type": "code",
   "execution_count": 7,
   "id": "835e38c3",
   "metadata": {},
   "outputs": [
    {
     "name": "stdout",
     "output_type": "stream",
     "text": [
      "Downloading data from https://storage.googleapis.com/tensorflow/keras-applications/vgg19/vgg19_weights_tf_dim_ordering_tf_kernels_notop.h5\n",
      "80142336/80134624 [==============================] - 30s 0us/step\n",
      "80150528/80134624 [==============================] - 30s 0us/step\n"
     ]
    }
   ],
   "source": [
    "base_for_model = tf.keras.applications.VGG19(weights='imagenet', input_shape=(224,224,3), include_top=False)"
   ]
  },
  {
   "cell_type": "code",
   "execution_count": 8,
   "id": "58cbead1",
   "metadata": {},
   "outputs": [],
   "source": [
    "for layer in base_for_model.layers:\n",
    "    layer.trainable = False"
   ]
  },
  {
   "cell_type": "code",
   "execution_count": 9,
   "id": "5c9b657c",
   "metadata": {},
   "outputs": [
    {
     "name": "stdout",
     "output_type": "stream",
     "text": [
      "Model: \"sequential\"\n",
      "_________________________________________________________________\n",
      "Layer (type)                 Output Shape              Param #   \n",
      "=================================================================\n",
      "vgg19 (Functional)           (None, 7, 7, 512)         20024384  \n",
      "_________________________________________________________________\n",
      "gaussian_noise (GaussianNois (None, 7, 7, 512)         0         \n",
      "_________________________________________________________________\n",
      "global_average_pooling2d (Gl (None, 512)               0         \n",
      "_________________________________________________________________\n",
      "dense (Dense)                (None, 512)               262656    \n",
      "_________________________________________________________________\n",
      "batch_normalization (BatchNo (None, 512)               2048      \n",
      "_________________________________________________________________\n",
      "dense_1 (Dense)              (None, 1)                 513       \n",
      "=================================================================\n",
      "Total params: 20,289,601\n",
      "Trainable params: 264,193\n",
      "Non-trainable params: 20,025,408\n",
      "_________________________________________________________________\n"
     ]
    }
   ],
   "source": [
    "model = Sequential()\n",
    "model.add(base_for_model) \n",
    "model.add(GaussianNoise(0.25)) #to prevent overfitting\n",
    "model.add(GlobalAveragePooling2D()) #to converge and reduce the parameters\n",
    "model.add(Dense(512, activation = 'relu')) #hidden layer (relu activation function is suggested for images)\n",
    "model.add(BatchNormalization()) #to prevent overfitting\n",
    "model.add(Dense(1, activation='sigmoid')) #output layer\n",
    "model.summary()"
   ]
  },
  {
   "cell_type": "code",
   "execution_count": 10,
   "id": "408f817a",
   "metadata": {},
   "outputs": [],
   "source": [
    "adam= tf.keras.optimizers.Adam(learning_rate=0.001)\n",
    "model.compile(optimizer=adam,loss= 'binary_crossentropy', metrics=['accuracy','Precision','Recall','AUC'])"
   ]
  },
  {
   "cell_type": "code",
   "execution_count": 11,
   "id": "3402439b",
   "metadata": {},
   "outputs": [],
   "source": [
    "mp= tf.keras.callbacks.ModelCheckpoint(filepath='vgg19.hdf5',verbose=2, save_best_only=True)\n",
    "es= tf.keras.callbacks.EarlyStopping(monitor='val_loss', min_delta=0.05, patience=3)\n",
    "callback=[es,mp]"
   ]
  },
  {
   "cell_type": "code",
   "execution_count": 57,
   "id": "ade67ec1",
   "metadata": {},
   "outputs": [
    {
     "name": "stdout",
     "output_type": "stream",
     "text": [
      "[name: \"/device:CPU:0\"\n",
      "device_type: \"CPU\"\n",
      "memory_limit: 268435456\n",
      "locality {\n",
      "}\n",
      "incarnation: 9686404986799681717\n",
      "xla_global_id: -1\n",
      ", name: \"/device:GPU:0\"\n",
      "device_type: \"GPU\"\n",
      "memory_limit: 881848320\n",
      "locality {\n",
      "  bus_id: 1\n",
      "  links {\n",
      "  }\n",
      "}\n",
      "incarnation: 8861095484025836365\n",
      "physical_device_desc: \"device: 0, name: NVIDIA GeForce RTX 3060 Laptop GPU, pci bus id: 0000:01:00.0, compute capability: 8.6\"\n",
      "xla_global_id: 416903419\n",
      "]\n"
     ]
    }
   ],
   "source": [
    "from tensorflow.python.client import device_lib\n",
    "print(device_lib.list_local_devices())"
   ]
  },
  {
   "cell_type": "code",
   "execution_count": 58,
   "id": "b691e3e2",
   "metadata": {},
   "outputs": [
    {
     "name": "stdout",
     "output_type": "stream",
     "text": [
      "True\n"
     ]
    }
   ],
   "source": [
    "print(tf.test.is_gpu_available())"
   ]
  },
  {
   "cell_type": "code",
   "execution_count": 12,
   "id": "1ef23fd2",
   "metadata": {},
   "outputs": [
    {
     "name": "stdout",
     "output_type": "stream",
     "text": [
      "Epoch 1/10\n",
      "23/23 [==============================] - 44s 2s/step - loss: 0.6624 - accuracy: 0.6196 - precision: 0.9064 - recall: 0.6033 - auc: 0.7564 - val_loss: 0.9676 - val_accuracy: 0.6250 - val_precision: 0.9556 - val_recall: 0.6056 - val_auc: 0.7879\n",
      "\n",
      "Epoch 00001: val_loss improved from inf to 0.96762, saving model to vgg19.hdf5\n",
      "Epoch 2/10\n",
      "23/23 [==============================] - 41s 2s/step - loss: 0.4067 - accuracy: 0.8234 - precision: 0.9511 - recall: 0.8295 - auc: 0.8950 - val_loss: 0.4480 - val_accuracy: 0.8125 - val_precision: 0.9375 - val_recall: 0.8451 - val_auc: 0.7668\n",
      "\n",
      "Epoch 00002: val_loss improved from 0.96762 to 0.44805, saving model to vgg19.hdf5\n",
      "Epoch 3/10\n",
      "23/23 [==============================] - 41s 2s/step - loss: 0.2840 - accuracy: 0.9103 - precision: 0.9722 - recall: 0.9180 - auc: 0.9497 - val_loss: 0.5111 - val_accuracy: 0.7875 - val_precision: 0.9500 - val_recall: 0.8028 - val_auc: 0.7919\n",
      "\n",
      "Epoch 00003: val_loss did not improve from 0.44805\n",
      "Epoch 4/10\n",
      "23/23 [==============================] - 41s 2s/step - loss: 0.2555 - accuracy: 0.9185 - precision: 0.9450 - recall: 0.9574 - auc: 0.9297 - val_loss: 0.3509 - val_accuracy: 0.8375 - val_precision: 0.9531 - val_recall: 0.8592 - val_auc: 0.9085\n",
      "\n",
      "Epoch 00004: val_loss improved from 0.44805 to 0.35093, saving model to vgg19.hdf5\n",
      "Epoch 5/10\n",
      "23/23 [==============================] - 42s 2s/step - loss: 0.1933 - accuracy: 0.9348 - precision: 0.9668 - recall: 0.9541 - auc: 0.9636 - val_loss: 0.3018 - val_accuracy: 0.9000 - val_precision: 0.9437 - val_recall: 0.9437 - val_auc: 0.8912\n",
      "\n",
      "Epoch 00005: val_loss improved from 0.35093 to 0.30184, saving model to vgg19.hdf5\n",
      "Epoch 6/10\n",
      "23/23 [==============================] - 42s 2s/step - loss: 0.1770 - accuracy: 0.9266 - precision: 0.9542 - recall: 0.9574 - auc: 0.9744 - val_loss: 0.2522 - val_accuracy: 0.9250 - val_precision: 0.9333 - val_recall: 0.9859 - val_auc: 0.8740\n",
      "\n",
      "Epoch 00006: val_loss improved from 0.30184 to 0.25224, saving model to vgg19.hdf5\n",
      "Epoch 7/10\n",
      "23/23 [==============================] - 41s 2s/step - loss: 0.1546 - accuracy: 0.9511 - precision: 0.9736 - recall: 0.9672 - auc: 0.9807 - val_loss: 0.7031 - val_accuracy: 0.7375 - val_precision: 0.9808 - val_recall: 0.7183 - val_auc: 0.8873\n",
      "\n",
      "Epoch 00007: val_loss did not improve from 0.25224\n",
      "Epoch 8/10\n",
      "23/23 [==============================] - 41s 2s/step - loss: 0.1577 - accuracy: 0.9511 - precision: 0.9644 - recall: 0.9770 - auc: 0.9736 - val_loss: 0.3596 - val_accuracy: 0.8500 - val_precision: 0.9275 - val_recall: 0.9014 - val_auc: 0.8286\n",
      "\n",
      "Epoch 00008: val_loss did not improve from 0.25224\n",
      "Epoch 9/10\n",
      "23/23 [==============================] - 42s 2s/step - loss: 0.1572 - accuracy: 0.9293 - precision: 0.9544 - recall: 0.9607 - auc: 0.9696 - val_loss: 0.2743 - val_accuracy: 0.8875 - val_precision: 0.9559 - val_recall: 0.9155 - val_auc: 0.8560\n",
      "\n",
      "Epoch 00009: val_loss did not improve from 0.25224\n"
     ]
    }
   ],
   "source": [
    "history = model.fit(\n",
    "    train_generator,\n",
    "#     steps_per_epoch= 4946/32,\n",
    "    epochs = 10, #own choice\n",
    "    validation_data = validation_generator,\n",
    "    callbacks=callback\n",
    ")"
   ]
  },
  {
   "cell_type": "code",
   "execution_count": 13,
   "id": "42be9354",
   "metadata": {},
   "outputs": [
    {
     "name": "stdout",
     "output_type": "stream",
     "text": [
      "dict_keys(['loss', 'accuracy', 'precision', 'recall', 'auc', 'val_loss', 'val_accuracy', 'val_precision', 'val_recall', 'val_auc'])\n"
     ]
    }
   ],
   "source": [
    "print(history.history.keys())\n",
    "acc=(history.history['accuracy'])\n",
    "loss=(history.history['loss'])\n",
    "prc=(history.history['precision'])\n",
    "rec=(history.history['recall'])\n",
    "auc=(history.history['auc'])\n",
    "val_acc=(history.history['val_accuracy'])\n",
    "val_loss=(history.history['val_loss'])\n",
    "val_prc=(history.history['val_precision'])\n",
    "val_rec=(history.history['val_recall'])\n",
    "val_auc=(history.history['val_auc'])"
   ]
  },
  {
   "cell_type": "code",
   "execution_count": 14,
   "id": "3ec2fd32",
   "metadata": {},
   "outputs": [
    {
     "data": {
      "text/plain": [
       "<matplotlib.legend.Legend at 0x262d2c58cc0>"
      ]
     },
     "execution_count": 14,
     "metadata": {},
     "output_type": "execute_result"
    },
    {
     "data": {
      "image/png": "[encoded data removed]",
      "text/plain": [
       "<Figure size 432x288 with 1 Axes>"
      ]
     },
     "metadata": {
      "needs_background": "light"
     },
     "output_type": "display_data"
    }
   ],
   "source": [
    "plt.plot(acc)\n",
    "plt.plot(val_acc)\n",
    "plt.title('ACCURACY COMPARISON')\n",
    "plt.xlabel('epoch')\n",
    "plt.ylabel('accuracies')\n",
    "plt.title('ACCURACY COMPARISON')\n",
    "plt.legend(['train','validation'])"
   ]
  },
  {
   "cell_type": "code",
   "execution_count": 15,
   "id": "e8d43bef",
   "metadata": {},
   "outputs": [
    {
     "data": {
      "text/plain": [
       "<matplotlib.legend.Legend at 0x262d172c828>"
      ]
     },
     "execution_count": 15,
     "metadata": {},
     "output_type": "execute_result"
    },
    {
     "data": {
      "image/png": "[encoded data removed]",
      "text/plain": [
       "<Figure size 432x288 with 1 Axes>"
      ]
     },
     "metadata": {
      "needs_background": "light"
     },
     "output_type": "display_data"
    }
   ],
   "source": [
    "plt.title('LOSS COMPARISON')\n",
    "plt.plot(loss)\n",
    "plt.plot(val_loss)\n",
    "plt.xlabel('epoch')\n",
    "plt.ylabel('losses')\n",
    "plt.legend(['train','validation'])"
   ]
  },
  {
   "cell_type": "code",
   "execution_count": 16,
   "id": "6479e8d0",
   "metadata": {},
   "outputs": [
    {
     "name": "stdout",
     "output_type": "stream",
     "text": [
      "Model Train Evaluation\n",
      "23/23 [==============================] - 34s 1s/step - loss: 0.1470 - accuracy: 0.9429 - precision: 0.9863 - recall: 0.9443 - auc: 0.9893\n",
      "Model Validation Evaluation\n",
      "5/5 [==============================] - 8s 1s/step - loss: 0.3453 - accuracy: 0.8625 - precision: 0.9545 - recall: 0.8873 - auc: 0.8365\n",
      "Model Test Evaluation\n",
      "5/5 [==============================] - 8s 1s/step - loss: 0.5441 - accuracy: 0.8228 - precision: 0.9138 - recall: 0.8548 - auc: 0.8463\n"
     ]
    },
    {
     "data": {
      "text/plain": [
       "[0.5441103577613831,\n",
       " 0.8227847814559937,\n",
       " 0.9137930870056152,\n",
       " 0.8548387289047241,\n",
       " 0.8462998270988464]"
      ]
     },
     "execution_count": 16,
     "metadata": {},
     "output_type": "execute_result"
    }
   ],
   "source": [
    "print(\"Model Train Evaluation\")\n",
    "model.evaluate(train_generator)\n",
    "print(\"Model Validation Evaluation\")\n",
    "model.evaluate(validation_generator)\n",
    "print(\"Model Test Evaluation\")\n",
    "model.evaluate(test_generator)"
   ]
  },
  {
   "cell_type": "code",
   "execution_count": null,
   "id": "b3b26eaa",
   "metadata": {},
   "outputs": [],
   "source": [
    "img =(image.load_img('D:/Research/Oral Cancer Detection/Data/Mendeley Data/First Set/100x Normal Oral Cavity Histopathological Images/Normal_100x_12.jpg',target_size=(224,224)))\n",
    "imaga = image.img_to_array(img)\n",
    "image = np.expand_dims(imaga,axis=0)  \n",
    "ypred = model.predict(image)\n",
    "if ypred<0.5:\n",
    "      ypred=\"Normal\"\n",
    "else:\n",
    "      ypred=\"Squamous Cell Carcinoma\" \n",
    "plt.imshow(img)\n",
    "ypred"
   ]
  },
  {
   "cell_type": "code",
   "execution_count": 17,
   "id": "7d4c3062",
   "metadata": {},
   "outputs": [
    {
     "name": "stdout",
     "output_type": "stream",
     "text": [
      "Saved model to disk\n"
     ]
    }
   ],
   "source": [
    "model.save(\"vgg19.h5\")\n",
    "print(\"Saved model to disk\")"
   ]
  },
  {
   "cell_type": "code",
   "execution_count": null,
   "id": "67152a60",
   "metadata": {},
   "outputs": [],
   "source": []
  }
 ],
 "metadata": {
  "kernelspec": {
   "display_name": "Python 3",
   "language": "python",
   "name": "python3"
  },
  "language_info": {
   "codemirror_mode": {
    "name": "ipython",
    "version": 3
   },
   "file_extension": ".py",
   "mimetype": "text/x-python",
   "name": "python",
   "nbconvert_exporter": "python",
   "pygments_lexer": "ipython3",
   "version": "3.6.13"
  }
 },
 "nbformat": 4,
 "nbformat_minor": 5
}
